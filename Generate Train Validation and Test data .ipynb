{
 "cells": [
  {
   "cell_type": "markdown",
   "metadata": {},
   "source": [
    "**Generating ECG data for neural network analysis**\n",
    "\n",
    "I am using the [MIT Arrythmia Database](https://www.physionet.org/physiobank/database/mitdb/). This database is a publicly available non-personally identifiable database of ECG signals that have been annotated by professional cardiologists. The data was collected at the Beth Israel Hospital in Boston in the late 70's.\n",
    "\n",
    "I am using the [WFDB package](https://github.com/MIT-LCP/wfdb-python) from Physionet that enables the import of raw ECG data using Python "
   ]
  },
  {
   "cell_type": "code",
   "execution_count": 1,
   "metadata": {},
   "outputs": [],
   "source": [
    "import numpy as np\n",
    "import wfdb\n",
    "from wfdb import processing\n",
    "import cv2\n",
    "import os\n",
    "import matplotlib.pyplot as plt\n",
    "import pandas as pd\n",
    "%matplotlib inline"
   ]
  },
  {
   "cell_type": "code",
   "execution_count": 2,
   "metadata": {},
   "outputs": [
    {
     "name": "stdout",
     "output_type": "stream",
     "text": [
      "The database contains 48 records\n"
     ]
    }
   ],
   "source": [
    "dir = \"mitdb\" #this is the MIT-BIH arrythmia database\n",
    "records = wfdb.get_record_list(dir)\n",
    "print(\"The database contains %s records\" %(len(records)))"
   ]
  },
  {
   "cell_type": "markdown",
   "metadata": {},
   "source": [
    "I will first take a look at an individual record to understand what is in the data. Each ECG record comprises two files: a data file and a corresponding annotations file."
   ]
  },
  {
   "cell_type": "code",
   "execution_count": 3,
   "metadata": {},
   "outputs": [
    {
     "name": "stdout",
     "output_type": "stream",
     "text": [
      "The sample frequency is 360 \n"
     ]
    }
   ],
   "source": [
    "recordnumber = \"201\"\n",
    "ecgdata, fields = wfdb.rdsamp(recordnumber, pb_dir = dir, channels = [0]) \n",
    "fs = fields[\"fs\"] \n",
    "print(\"The sample frequency is %s \" %(fs))"
   ]
  },
  {
   "cell_type": "code",
   "execution_count": 5,
   "metadata": {},
   "outputs": [
    {
     "name": "stdout",
     "output_type": "stream",
     "text": [
      "There are 2039 annotations in record 201\n"
     ]
    }
   ],
   "source": [
    "annotations = wfdb.rdann(recordnumber, \"atr\", pb_dir = dir)\n",
    "samples = annotations.sample\n",
    "symbols = annotations.symbol\n",
    "print(\"There are %s annotations in record %s\" %(len(samples), recordnumber))"
   ]
  },
  {
   "cell_type": "markdown",
   "metadata": {},
   "source": [
    "ECG data is just measurement of voltage output of the leads attatched to the body measuring the electrical signal of the heart. Lets graph one of the heartbeats."
   ]
  },
  {
   "cell_type": "code",
   "execution_count": 6,
   "metadata": {},
   "outputs": [
    {
     "data": {
      "text/plain": [
       "Text(0.5, 0, 'Sample')"
      ]
     },
     "execution_count": 6,
     "metadata": {},
     "output_type": "execute_result"
    },
    {
     "data": {
      "image/png": "[encoded data removed]",
      "text/plain": [
       "<Figure size 432x288 with 1 Axes>"
      ]
     },
     "metadata": {
      "needs_background": "light"
     },
     "output_type": "display_data"
    }
   ],
   "source": [
    "n = 150\n",
    "\n",
    "before_r = 92\n",
    "after_r = 164\n",
    "\n",
    "record_segment = ecgdata[samples[n]-before_r: samples[n]+after_r]\n",
    "plt.plot(record_segment)\n",
    "plt.title(\"Annotation %s \" %(symbols[n]))\n",
    "\n",
    "plt.ylabel(\"Voltage (mV)\")\n",
    "plt.xlabel(\"Sample\")"
   ]
  },
  {
   "cell_type": "markdown",
   "metadata": {},
   "source": [
    "We are going to create a Pandas dataframe containing all of the annotations for all of the ECG signals in the database."
   ]
  },
  {
   "cell_type": "code",
   "execution_count": 7,
   "metadata": {},
   "outputs": [
    {
     "name": "stderr",
     "output_type": "stream",
     "text": [
      "100%|██████████████████████████████████████████████████████████████████████████████████| 48/48 [01:47<00:00,  2.73s/it]\n"
     ]
    }
   ],
   "source": [
    "from tqdm import tqdm\n",
    "\n",
    "all_annotations = pd.DataFrame()\n",
    "\n",
    "for record in tqdm(records):\n",
    "    \n",
    "    an = wfdb.rdann(record, \"atr\", pb_dir = dir)\n",
    "    \n",
    "    for symbol in an.symbol:\n",
    "        \n",
    "        all_annotations = all_annotations.append({\"annotation\":symbol}, ignore_index = True)"
   ]
  },
  {
   "cell_type": "code",
   "execution_count": 8,
   "metadata": {},
   "outputs": [
    {
     "name": "stdout",
     "output_type": "stream",
     "text": [
      "112647\n"
     ]
    }
   ],
   "source": [
    "print(len(all_annotations))"
   ]
  },
  {
   "cell_type": "markdown",
   "metadata": {},
   "source": [
    "Lets take a look at how many of each kind of annotation are in the database."
   ]
  },
  {
   "cell_type": "code",
   "execution_count": 9,
   "metadata": {
    "scrolled": false
   },
   "outputs": [
    {
     "data": {
      "text/plain": [
       "N    75052\n",
       "L     8075\n",
       "R     7259\n",
       "V     7130\n",
       "/     7028\n",
       "A     2546\n",
       "+     1291\n",
       "f      982\n",
       "F      803\n",
       "~      616\n",
       "!      472\n",
       "\"      437\n",
       "j      229\n",
       "x      193\n",
       "a      150\n",
       "|      132\n",
       "E      106\n",
       "J       83\n",
       "Q       33\n",
       "e       16\n",
       "[        6\n",
       "]        6\n",
       "S        2\n",
       "Name: annotation, dtype: int64"
      ]
     },
     "execution_count": 9,
     "metadata": {},
     "output_type": "execute_result"
    }
   ],
   "source": [
    "all_annotations[\"annotation\"].value_counts()"
   ]
  },
  {
   "cell_type": "markdown",
   "metadata": {},
   "source": [
    "A convolutional neural network is a powerful way to perform image classification. So we need to convert the ECG data, which is just a long series of voltage measurements into grayscale image files.\n",
    "\n",
    "Lets start by doing that for one heartbeat."
   ]
  },
  {
   "cell_type": "code",
   "execution_count": 10,
   "metadata": {},
   "outputs": [
    {
     "data": {
      "image/png": "[encoded data removed]",
      "text/plain": [
       "<Figure size 432x288 with 1 Axes>"
      ]
     },
     "metadata": {
      "needs_background": "light"
     },
     "output_type": "display_data"
    }
   ],
   "source": [
    "size = 256\n",
    "\n",
    "max_val = record_segment.max()\n",
    "min_val = record_segment.min()\n",
    "\n",
    "scaled_segment = (record_segment - min_val)*256/(max_val - min_val)\n",
    "scaled_segment = size - scaled_segment\n",
    "scaled_segment = scaled_segment.astype(\"uint16\")\n",
    "\n",
    "x = np.arange(size)\n",
    "\n",
    "array = np.column_stack((x,scaled_segment))\n",
    "\n",
    "img = np.zeros([size,size,3], dtype=\"uint8\")\n",
    "\n",
    "img[:]=255\n",
    "\n",
    "cv2.polylines(img,[array],False,(0,0,0), thickness=2)\n",
    "\n",
    "plt.imshow(img)\n",
    "plt.show()"
   ]
  },
  {
   "cell_type": "markdown",
   "metadata": {},
   "source": [
    "Create folders for each beat type. For beat type \"/\" we will change the name because this is a windows operating system character. Because there is an \"F\" and an \"f\" we will change the name of \"f\" so that these aren't confused."
   ]
  },
  {
   "cell_type": "code",
   "execution_count": 11,
   "metadata": {},
   "outputs": [],
   "source": [
    "target_symbols = ['N','L','R','V','/','A','+','f','F']\n",
    "base_path = \"ecg_images/\"\n",
    "\n",
    "for symbol in target_symbols: \n",
    "    \n",
    "    if symbol == '/': symbol = 'P'\n",
    "        \n",
    "    if symbol == 'f': symbol = 'f_'\n",
    "        \n",
    "    path = base_path + symbol\n",
    "    if not os.path.exists(path):\n",
    "        \n",
    "        os.makedirs(path)\n",
    "    "
   ]
  },
  {
   "cell_type": "markdown",
   "metadata": {},
   "source": [
    "The following function takes a segment of the ECG signal and the symbol and counter and creates an image in the relevant folder."
   ]
  },
  {
   "cell_type": "code",
   "execution_count": 12,
   "metadata": {},
   "outputs": [],
   "source": [
    "def create_image(record_segment, symbol, img_counter):\n",
    "    \n",
    "    size = 256\n",
    "\n",
    "    max_val = record_segment.max()\n",
    "    min_val = record_segment.min()\n",
    "\n",
    "    scaled_segment = (record_segment - min_val)*256/(max_val - min_val)\n",
    "    scaled_segment = size - scaled_segment\n",
    "    scaled_segment = scaled_segment.astype(\"uint16\")\n",
    "\n",
    "    x = np.arange(size)\n",
    "\n",
    "    array = np.column_stack((x,scaled_segment))\n",
    "\n",
    "    img = np.zeros([size,size,3], dtype=\"uint8\")\n",
    "\n",
    "    img[:]=255\n",
    "\n",
    "    cv2.polylines(img,[array],False,(0,0,0), thickness=2)\n",
    "    gray = cv2.cvtColor(img, cv2.COLOR_BGR2GRAY)\n",
    "    \n",
    "    path = \"ecg_images/\" + str(symbol) + \"/\"\n",
    "    name = path + symbol + str(img_counter) + \".jpg\"\n",
    "    cv2.imwrite(name, img)\n",
    "    "
   ]
  },
  {
   "cell_type": "markdown",
   "metadata": {},
   "source": [
    "The following cycles through every annotated beat in the database, calls the function to create an image which is then saved in the relevant folder."
   ]
  },
  {
   "cell_type": "code",
   "execution_count": 15,
   "metadata": {},
   "outputs": [
    {
     "name": "stderr",
     "output_type": "stream",
     "text": [
      "100%|██████████████████████████████████████████████████████████████████████████████████| 48/48 [08:47<00:00, 12.08s/it]\n"
     ]
    }
   ],
   "source": [
    "img_counter = 0\n",
    "\n",
    "for record in tqdm(records):\n",
    "    \n",
    "    ecgdata, fields = wfdb.rdsamp(record, pb_dir = dir, channels = [0]) \n",
    "    an = wfdb.rdann(record, \"atr\", pb_dir = dir)\n",
    "    \n",
    "    for i, symbol in enumerate(an.symbol):\n",
    "        \n",
    "        if symbol in target_symbols:\n",
    "            \n",
    "            start = an.sample[i] - before_r\n",
    "            end = an.sample[i] + after_r\n",
    "            \n",
    "            if start < 0 or end > 650000:\n",
    "                continue \n",
    "                \n",
    "            record_segment = ecgdata[start:end]\n",
    "            \n",
    "            if symbol == '/': symbol = 'P'\n",
    "            if symbol == 'f': symbol = 'f_'\n",
    "            \n",
    "            create_image(record_segment, symbol, img_counter)\n",
    "            img_counter += 1\n",
    "    "
   ]
  },
  {
   "cell_type": "markdown",
   "metadata": {},
   "source": [
    "A machine learning model is trained on training data, and its performance is measured during training on a validation data set. The accuracy of the final model is tested on a separate data set called the test set. \n",
    "\n",
    "We will now create test, validation, and training folders. \n",
    "\n",
    "We will only look at beats that have a sufficient amount of data for analysis, specifically:\n",
    "\n",
    "* N: Normal beat\n",
    "* L: Left bundle branch block beat\n",
    "* R: Right bundle branch block beat\n",
    "* V: Premature ventricular contraction\n",
    "* P: Pause \n",
    "* A: Atrial premature beat"
   ]
  },
  {
   "cell_type": "code",
   "execution_count": 13,
   "metadata": {},
   "outputs": [],
   "source": [
    "target_symbols = ['N','L','R','V','P', 'A']\n",
    "base_path = \"ecg_images\"\n",
    "\n",
    "#create training directory\n",
    "train_dir = os.path.join(base_path, 'train')\n",
    "\n",
    "if not os.path.exists(train_dir):\n",
    "        \n",
    "        os.makedirs(train_dir)\n",
    "\n",
    "#create validation directory\n",
    "validation_dir = os.path.join(base_path, 'validation')\n",
    "\n",
    "if not os.path.exists(validation_dir):\n",
    "        \n",
    "        os.makedirs(validation_dir)\n",
    "\n",
    "#create test directory\n",
    "test_dir = os.path.join(base_path, 'test')\n",
    "\n",
    "if not os.path.exists(test_dir):\n",
    "        \n",
    "        os.makedirs(test_dir)"
   ]
  },
  {
   "cell_type": "markdown",
   "metadata": {},
   "source": [
    "We will now create sub folders for each beat type within the training, validation, and test folders."
   ]
  },
  {
   "cell_type": "code",
   "execution_count": null,
   "metadata": {},
   "outputs": [],
   "source": [
    "for symbol in target_symbols:\n",
    "    \n",
    "    path = os.path.join(train_dir, str(symbol))\n",
    "    \n",
    "    if not os.path.exists(path):\n",
    "        os.makedirs(path)\n",
    "    \n",
    "    path = os.path.join(validation_dir, str(symbol))\n",
    "    \n",
    "    if not os.path.exists(path):\n",
    "        os.makedirs(path)\n",
    "        \n",
    "    path = os.path.join(test_dir, str(symbol))\n",
    "    \n",
    "    if not os.path.exists(path):\n",
    "        os.makedirs(path)"
   ]
  },
  {
   "cell_type": "markdown",
   "metadata": {},
   "source": [
    "Its typical in machine learning to allocate 80% of the data to training, and 10% each to validation and test. We will first shuffle the data to ensure there is no bias in this allocation."
   ]
  },
  {
   "cell_type": "code",
   "execution_count": null,
   "metadata": {},
   "outputs": [],
   "source": [
    "for symbol in target_symbols: \n",
    "    \n",
    "    path = os.path.join(base_path, str(symbol))\n",
    "\n",
    "    fnames = os.listdir(path)\n",
    "    \n",
    "    file_count = len(fnames)\n",
    "    \n",
    "    np.random.shuffle(fnames)\n",
    "    \n",
    "    for fname in fnames[0:int(0.8*file_count)]: \n",
    "        src = os.path.join(path, fname)\n",
    "        train_symbol_path = os.path.join(train_dir, str(symbol))\n",
    "        dst = os.path.join(train_symbol_path, fname)\n",
    "        shutil.copyfile(src, dst)\n",
    "    \n",
    "    for fname in fnames[int(0.8*file_count):int(0.9*file_count)]: \n",
    "        src = os.path.join(path, fname)\n",
    "        validation_symbol_path = os.path.join(validation_dir, str(symbol))\n",
    "        dst = os.path.join(validation_symbol_path, fname)\n",
    "        shutil.copyfile(src, dst)\n",
    "        \n",
    "    for fname in fnames[int(0.9*file_count):file_count]: \n",
    "        src = os.path.join(path, fname)\n",
    "        test_symbol_path = os.path.join(test_dir, str(symbol))\n",
    "        dst = os.path.join(test_symbol_path, fname)\n",
    "        shutil.copyfile(src, dst)"
   ]
  },
  {
   "cell_type": "code",
   "execution_count": 14,
   "metadata": {},
   "outputs": [
    {
     "name": "stdout",
     "output_type": "stream",
     "text": [
      "N training: 60017\n",
      "N validation: 7502\n",
      "N test: 7503\n",
      "L training: 6457\n",
      "L validation: 807\n",
      "L test: 808\n",
      "R training: 5804\n",
      "R validation: 725\n",
      "R test: 726\n",
      "V training: 5703\n",
      "V validation: 713\n",
      "V test: 713\n",
      "P training: 5620\n",
      "P validation: 702\n",
      "P test: 703\n",
      "A training: 2036\n",
      "A validation: 255\n",
      "A test: 255\n"
     ]
    }
   ],
   "source": [
    "for symbol in target_symbols:\n",
    "    \n",
    "    train_symbol_dir = os.path.join(train_dir, str(symbol))\n",
    "    validation_symbol_dir = os.path.join(validation_dir, str(symbol))\n",
    "    test_symbol_dir = os.path.join(test_dir, str(symbol))\n",
    "    \n",
    "    print(str(symbol) + \" training: \" + str(len(os.listdir(train_symbol_dir))))\n",
    "    print(str(symbol) + \" validation: \" + str(len(os.listdir(validation_symbol_dir))))\n",
    "    print(str(symbol) + \" test: \" + str(len(os.listdir(test_symbol_dir))))"
   ]
  },
  {
   "cell_type": "markdown",
   "metadata": {},
   "source": [
    "We now have our data ready for the neural network to analyze!"
   ]
  },
  {
   "cell_type": "code",
   "execution_count": null,
   "metadata": {},
   "outputs": [],
   "source": []
  }
 ],
 "metadata": {
  "kernelspec": {
   "display_name": "Python 3",
   "language": "python",
   "name": "python3"
  },
  "language_info": {
   "codemirror_mode": {
    "name": "ipython",
    "version": 3
   },
   "file_extension": ".py",
   "mimetype": "text/x-python",
   "name": "python",
   "nbconvert_exporter": "python",
   "pygments_lexer": "ipython3",
   "version": "3.7.1"
  }
 },
 "nbformat": 4,
 "nbformat_minor": 2
}

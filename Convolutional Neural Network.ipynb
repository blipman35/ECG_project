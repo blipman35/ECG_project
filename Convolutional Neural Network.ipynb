{
 "cells": [
  {
   "cell_type": "markdown",
   "metadata": {},
   "source": [
    "**Convolutional Neural Network to Identify Anomalies in ECG Signals**\n",
    "\n",
    "Heart disease affects millions of people around the world and is one of the leading causes of death. ECG is a powerful tool for analyzing heart condition. However, it is extremely time consuming and requires trained staff that are of limited supply. Recent advances in Neural Networks made classifying images possible and with high accuracy. The objective of this project is to create a Neural Network that can identify and classify ECG signals with very high accuracy. "
   ]
  },
  {
   "cell_type": "code",
   "execution_count": 1,
   "metadata": {},
   "outputs": [],
   "source": [
    "import os\n",
    "import shutil\n",
    "import matplotlib.pyplot as plt\n",
    "import random\n",
    "import numpy as np\n",
    "%matplotlib inline\n"
   ]
  },
  {
   "cell_type": "code",
   "execution_count": 2,
   "metadata": {},
   "outputs": [],
   "source": [
    "target_symbols = ['N','L','R','V','P', 'A']\n",
    "base_path = \"ecg_images\"\n",
    "\n",
    "train_dir = os.path.join(base_path, 'train')\n",
    "\n",
    "validation_dir = os.path.join(base_path, 'validation')\n",
    "\n",
    "test_dir = os.path.join(base_path, 'test')\n"
   ]
  },
  {
   "cell_type": "markdown",
   "metadata": {},
   "source": [
    "This project uses the [Keras](https://keras.io/) library, running on top of [Tensorflow](https://www.tensorflow.org/). Both of these are open source packages."
   ]
  },
  {
   "cell_type": "code",
   "execution_count": 6,
   "metadata": {},
   "outputs": [
    {
     "name": "stderr",
     "output_type": "stream",
     "text": [
      "Using TensorFlow backend.\n"
     ]
    }
   ],
   "source": [
    "import tensorflow as tf\n",
    "import keras"
   ]
  },
  {
   "cell_type": "markdown",
   "metadata": {},
   "source": [
    "The Neural Network consists of layers of increasing size. This enables the network to learn increasingly abstract features in the images. This network is based on an example in [Deep Learning with Python](https://www.amazon.com/Deep-Learning-Python-Francois-Chollet/dp/1617294438). The network classifies images into one of six categories corresponding to the six target beat types."
   ]
  },
  {
   "cell_type": "code",
   "execution_count": 7,
   "metadata": {},
   "outputs": [],
   "source": [
    "from keras import layers\n",
    "from keras import models\n",
    "\n",
    "model = models.Sequential()\n",
    "model.add(layers.Conv2D(32, (3, 3), activation='relu',\n",
    "                        input_shape=(150, 150, 1)))\n",
    "model.add(layers.MaxPooling2D((2, 2)))\n",
    "model.add(layers.Conv2D(64, (3, 3), activation='relu'))\n",
    "model.add(layers.MaxPooling2D((2, 2)))\n",
    "model.add(layers.Conv2D(128, (3, 3), activation='relu'))\n",
    "model.add(layers.MaxPooling2D((2, 2)))\n",
    "model.add(layers.Conv2D(128, (3, 3), activation='relu'))\n",
    "model.add(layers.MaxPooling2D((2, 2)))\n",
    "model.add(layers.Flatten())\n",
    "model.add(layers.Dropout(0.5))\n",
    "model.add(layers.Dense(512, activation='relu'))\n",
    "model.add(layers.Dense(6, activation='softmax'))"
   ]
  },
  {
   "cell_type": "code",
   "execution_count": 8,
   "metadata": {},
   "outputs": [
    {
     "name": "stdout",
     "output_type": "stream",
     "text": [
      "_________________________________________________________________\n",
      "Layer (type)                 Output Shape              Param #   \n",
      "=================================================================\n",
      "conv2d_1 (Conv2D)            (None, 148, 148, 32)      320       \n",
      "_________________________________________________________________\n",
      "max_pooling2d_1 (MaxPooling2 (None, 74, 74, 32)        0         \n",
      "_________________________________________________________________\n",
      "conv2d_2 (Conv2D)            (None, 72, 72, 64)        18496     \n",
      "_________________________________________________________________\n",
      "max_pooling2d_2 (MaxPooling2 (None, 36, 36, 64)        0         \n",
      "_________________________________________________________________\n",
      "conv2d_3 (Conv2D)            (None, 34, 34, 128)       73856     \n",
      "_________________________________________________________________\n",
      "max_pooling2d_3 (MaxPooling2 (None, 17, 17, 128)       0         \n",
      "_________________________________________________________________\n",
      "conv2d_4 (Conv2D)            (None, 15, 15, 128)       147584    \n",
      "_________________________________________________________________\n",
      "max_pooling2d_4 (MaxPooling2 (None, 7, 7, 128)         0         \n",
      "_________________________________________________________________\n",
      "flatten_1 (Flatten)          (None, 6272)              0         \n",
      "_________________________________________________________________\n",
      "dropout_1 (Dropout)          (None, 6272)              0         \n",
      "_________________________________________________________________\n",
      "dense_1 (Dense)              (None, 512)               3211776   \n",
      "_________________________________________________________________\n",
      "dense_2 (Dense)              (None, 6)                 3078      \n",
      "=================================================================\n",
      "Total params: 3,455,110\n",
      "Trainable params: 3,455,110\n",
      "Non-trainable params: 0\n",
      "_________________________________________________________________\n"
     ]
    }
   ],
   "source": [
    "model.summary()"
   ]
  },
  {
   "cell_type": "code",
   "execution_count": 9,
   "metadata": {},
   "outputs": [],
   "source": [
    "from keras import optimizers\n",
    "\n",
    "model.compile(loss='categorical_crossentropy',\n",
    "              optimizer=optimizers.RMSprop(lr=1e-4),\n",
    "              metrics=['acc'])"
   ]
  },
  {
   "cell_type": "markdown",
   "metadata": {},
   "source": [
    "We use the image data generator function of Keras. This is a simple way of making the neural network cycle through the train and validation folders in batches during the learning process."
   ]
  },
  {
   "cell_type": "code",
   "execution_count": 10,
   "metadata": {},
   "outputs": [
    {
     "name": "stdout",
     "output_type": "stream",
     "text": [
      "Found 85637 images belonging to 6 classes.\n",
      "Found 10704 images belonging to 6 classes.\n"
     ]
    }
   ],
   "source": [
    "from keras.preprocessing.image import ImageDataGenerator\n",
    "\n",
    "# All images will be rescaled by 1./255\n",
    "train_datagen = ImageDataGenerator(rescale=1./255)\n",
    "test_datagen = ImageDataGenerator(rescale=1./255)\n",
    "\n",
    "train_generator = train_datagen.flow_from_directory(\n",
    "        # This is the target directory\n",
    "        train_dir,\n",
    "        # All images will be resized to 150x150\n",
    "        target_size=(150, 150),\n",
    "        color_mode = \"grayscale\",\n",
    "        batch_size=20,\n",
    "        # Since we use categorical_crossentropy loss, we need categorical labels\n",
    "        class_mode='categorical')\n",
    "\n",
    "validation_generator = test_datagen.flow_from_directory(\n",
    "        validation_dir,\n",
    "        target_size=(150, 150),\n",
    "        color_mode = \"grayscale\", \n",
    "        batch_size=20,\n",
    "        class_mode='categorical')"
   ]
  },
  {
   "cell_type": "code",
   "execution_count": 13,
   "metadata": {},
   "outputs": [
    {
     "name": "stdout",
     "output_type": "stream",
     "text": [
      "Epoch 1/30\n",
      "4000/4000 [==============================] - 85s 21ms/step - loss: 0.1715 - acc: 0.9547 - val_loss: 0.1336 - val_acc: 0.9738\n",
      "Epoch 2/30\n",
      "4000/4000 [==============================] - 83s 21ms/step - loss: 0.0908 - acc: 0.9772 - val_loss: 0.0785 - val_acc: 0.9806\n",
      "Epoch 3/30\n",
      "4000/4000 [==============================] - 83s 21ms/step - loss: 0.0802 - acc: 0.9803 - val_loss: 0.1101 - val_acc: 0.9732\n",
      "Epoch 4/30\n",
      "4000/4000 [==============================] - 83s 21ms/step - loss: 0.0774 - acc: 0.9810 - val_loss: 0.0764 - val_acc: 0.9830\n",
      "Epoch 5/30\n",
      "4000/4000 [==============================] - 83s 21ms/step - loss: 0.0750 - acc: 0.9815 - val_loss: 0.0904 - val_acc: 0.9817\n",
      "Epoch 6/30\n",
      "4000/4000 [==============================] - 83s 21ms/step - loss: 0.0804 - acc: 0.9809 - val_loss: 0.0738 - val_acc: 0.9831\n",
      "Epoch 7/30\n",
      "4000/4000 [==============================] - 84s 21ms/step - loss: 0.0771 - acc: 0.9827 - val_loss: 0.0708 - val_acc: 0.9839\n",
      "Epoch 8/30\n",
      "4000/4000 [==============================] - 83s 21ms/step - loss: 0.0766 - acc: 0.9821 - val_loss: 0.0717 - val_acc: 0.9842\n",
      "Epoch 9/30\n",
      "4000/4000 [==============================] - 83s 21ms/step - loss: 0.0755 - acc: 0.9831 - val_loss: 0.0708 - val_acc: 0.9842\n",
      "Epoch 10/30\n",
      "4000/4000 [==============================] - 83s 21ms/step - loss: 0.0788 - acc: 0.9818 - val_loss: 0.0807 - val_acc: 0.9842\n",
      "Epoch 11/30\n",
      "4000/4000 [==============================] - 83s 21ms/step - loss: 0.0763 - acc: 0.9825 - val_loss: 0.0702 - val_acc: 0.9850\n",
      "Epoch 12/30\n",
      "4000/4000 [==============================] - 82s 21ms/step - loss: 0.0759 - acc: 0.9832 - val_loss: 0.0776 - val_acc: 0.9836\n",
      "Epoch 13/30\n",
      "4000/4000 [==============================] - 83s 21ms/step - loss: 0.0754 - acc: 0.9831 - val_loss: 0.0708 - val_acc: 0.9852\n",
      "Epoch 14/30\n",
      "4000/4000 [==============================] - 83s 21ms/step - loss: 0.0744 - acc: 0.9829 - val_loss: 0.0722 - val_acc: 0.9841\n",
      "Epoch 15/30\n",
      "4000/4000 [==============================] - 83s 21ms/step - loss: 0.0736 - acc: 0.9830 - val_loss: 0.0769 - val_acc: 0.9823\n",
      "Epoch 16/30\n",
      "4000/4000 [==============================] - 82s 21ms/step - loss: 0.0746 - acc: 0.9835 - val_loss: 0.0949 - val_acc: 0.9820\n",
      "Epoch 17/30\n",
      "4000/4000 [==============================] - 83s 21ms/step - loss: 0.0733 - acc: 0.9834 - val_loss: 0.0667 - val_acc: 0.9853\n",
      "Epoch 18/30\n",
      "4000/4000 [==============================] - 82s 21ms/step - loss: 0.0735 - acc: 0.9840 - val_loss: 0.0797 - val_acc: 0.9839\n",
      "Epoch 19/30\n",
      "4000/4000 [==============================] - 82s 21ms/step - loss: 0.0731 - acc: 0.9831 - val_loss: 0.0906 - val_acc: 0.9827\n",
      "Epoch 20/30\n",
      "4000/4000 [==============================] - 83s 21ms/step - loss: 0.0742 - acc: 0.9834 - val_loss: 0.0699 - val_acc: 0.9839\n",
      "Epoch 21/30\n",
      "4000/4000 [==============================] - 83s 21ms/step - loss: 0.0685 - acc: 0.9845 - val_loss: 0.0702 - val_acc: 0.9853\n",
      "Epoch 22/30\n",
      "4000/4000 [==============================] - 84s 21ms/step - loss: 0.0721 - acc: 0.9838 - val_loss: 0.0680 - val_acc: 0.9852\n",
      "Epoch 23/30\n",
      "4000/4000 [==============================] - 84s 21ms/step - loss: 0.0723 - acc: 0.9839 - val_loss: 0.0739 - val_acc: 0.9848\n",
      "Epoch 24/30\n",
      "4000/4000 [==============================] - 84s 21ms/step - loss: 0.0723 - acc: 0.9845 - val_loss: 0.0858 - val_acc: 0.9806\n",
      "Epoch 25/30\n",
      "4000/4000 [==============================] - 84s 21ms/step - loss: 0.0734 - acc: 0.9838 - val_loss: 0.0721 - val_acc: 0.9846\n",
      "Epoch 26/30\n",
      "4000/4000 [==============================] - 84s 21ms/step - loss: 0.0700 - acc: 0.9843 - val_loss: 0.0668 - val_acc: 0.9863\n",
      "Epoch 27/30\n",
      "4000/4000 [==============================] - 84s 21ms/step - loss: 0.0725 - acc: 0.9841 - val_loss: 0.0721 - val_acc: 0.9860\n",
      "Epoch 28/30\n",
      "4000/4000 [==============================] - 84s 21ms/step - loss: 0.0713 - acc: 0.9844 - val_loss: 0.0743 - val_acc: 0.9847\n",
      "Epoch 29/30\n",
      "4000/4000 [==============================] - 84s 21ms/step - loss: 0.0693 - acc: 0.9846 - val_loss: 0.0973 - val_acc: 0.9845\n",
      "Epoch 30/30\n",
      "4000/4000 [==============================] - 84s 21ms/step - loss: 0.0716 - acc: 0.9847 - val_loss: 0.0661 - val_acc: 0.9850\n"
     ]
    }
   ],
   "source": [
    "import PIL\n",
    "from PIL import Image\n",
    "\n",
    "history = model.fit_generator(\n",
    "      train_generator,\n",
    "      steps_per_epoch=4000,\n",
    "      epochs=30,\n",
    "      validation_data=validation_generator,\n",
    "      validation_steps=535)\n"
   ]
  },
  {
   "cell_type": "code",
   "execution_count": 14,
   "metadata": {},
   "outputs": [],
   "source": [
    "model.save('ECG_cnn.h5')"
   ]
  },
  {
   "cell_type": "markdown",
   "metadata": {},
   "source": [
    "The charts below show the accuracy and loss for training and validation. We want these to be fairly similar otherwise it shows that the network is overfitting. "
   ]
  },
  {
   "cell_type": "code",
   "execution_count": 15,
   "metadata": {},
   "outputs": [
    {
     "data": {
      "image/png": "[encoded data removed]",
      "text/plain": [
       "<Figure size 432x288 with 1 Axes>"
      ]
     },
     "metadata": {
      "needs_background": "light"
     },
     "output_type": "display_data"
    },
    {
     "data": {
      "image/png": "[encoded data removed]",
      "text/plain": [
       "<Figure size 432x288 with 1 Axes>"
      ]
     },
     "metadata": {
      "needs_background": "light"
     },
     "output_type": "display_data"
    }
   ],
   "source": [
    "acc = history.history['acc']\n",
    "val_acc = history.history['val_acc']\n",
    "loss = history.history['loss']\n",
    "val_loss = history.history['val_loss']\n",
    "\n",
    "epochs = range(len(acc))\n",
    "\n",
    "plt.plot(epochs, acc, 'bo', label='Training acc')\n",
    "plt.plot(epochs, val_acc, 'b', label='Validation acc')\n",
    "plt.title('Training and validation accuracy')\n",
    "plt.legend()\n",
    "\n",
    "plt.figure()\n",
    "\n",
    "plt.plot(epochs, loss, 'bo', label='Training loss')\n",
    "plt.plot(epochs, val_loss, 'b', label='Validation loss')\n",
    "plt.title('Training and validation loss')\n",
    "plt.legend()\n",
    "\n",
    "plt.show()"
   ]
  },
  {
   "cell_type": "markdown",
   "metadata": {},
   "source": [
    "Although the accuracy is about 98.5%, the accuracy measure by itself is misleading because most heart beats are normal and so we could classify every heartbeat as normal and have a high accuracy although this wouldn't be very useful. Keras does not have a way to do this, so we will use [Scikit-learn](https://scikit-learn.org/stable/) to do this analysis.\n",
    "\n",
    "The overall accuracy of the model against the test sample is almost 99%. The table below also shows the following metrics for each beat type: \n",
    "\n",
    "* Precision: What proportion of positive identifications was actually correct?\n",
    "* Recall: What proportion of actual positives was identified correctly?\n",
    "* F1 Score: The balance between precision and recall\n",
    "\n",
    "For each beat type, the precision and recall are in the 98-99% range, except for recall for beat type A. The reason is most likely because this beat type has the least number of samples."
   ]
  },
  {
   "cell_type": "code",
   "execution_count": 16,
   "metadata": {},
   "outputs": [
    {
     "name": "stdout",
     "output_type": "stream",
     "text": [
      "Found 10708 images belonging to 6 classes.\n",
      "test accuracy: 98.76 percent\n",
      "test loss: 0.06\n",
      "              precision    recall  f1-score   support\n",
      "\n",
      "           A       0.99      0.78      0.87       255\n",
      "           L       0.98      0.99      0.98       808\n",
      "           N       0.99      1.00      0.99      7503\n",
      "           P       1.00      1.00      1.00       703\n",
      "           R       0.99      0.98      0.99       726\n",
      "           V       0.98      0.95      0.96       713\n",
      "\n",
      "   micro avg       0.99      0.99      0.99     10708\n",
      "   macro avg       0.99      0.95      0.97     10708\n",
      "weighted avg       0.99      0.99      0.99     10708\n",
      "\n"
     ]
    }
   ],
   "source": [
    "from sklearn.metrics import classification_report\n",
    "from sklearn.metrics import accuracy_score\n",
    "\n",
    "testing_datagen = ImageDataGenerator(rescale=1./255)\n",
    "test_generator = testing_datagen.flow_from_directory(\n",
    "        test_dir,\n",
    "        target_size=(150, 150),\n",
    "        color_mode = \"grayscale\", \n",
    "        batch_size=20,\n",
    "        class_mode='categorical',\n",
    "        shuffle = False)\n",
    "\n",
    "test_loss, test_acc = model.evaluate_generator(test_generator, steps = 535)\n",
    "test_accuracy = test_acc*100\n",
    "print('test accuracy: %.2f percent' %(test_accuracy))\n",
    "print('test loss: %.2f' %(test_loss))\n",
    "\n",
    "predictions = model.predict_generator(\n",
    "    test_generator, \n",
    "    steps = np.math.ceil(test_generator.samples/ test_generator.batch_size))\n",
    "\n",
    "predicted_classes = np.argmax(predictions, axis = 1)\n",
    "\n",
    "true_classes = test_generator.classes \n",
    "class_labels = list(test_generator.class_indices.keys())\n",
    "\n",
    "report = classification_report(true_classes, predicted_classes, target_names = class_labels)\n",
    "print(report)"
   ]
  },
  {
   "cell_type": "markdown",
   "metadata": {},
   "source": [
    "Another useful way to look at the results is with a confusion matrix. This shows the true positive, false positive, true negative, and false negative for each beat type. This is similar data to the chart above, just more granular. "
   ]
  },
  {
   "cell_type": "code",
   "execution_count": 17,
   "metadata": {},
   "outputs": [],
   "source": [
    "def plot_confusion_matrix(cm, classes,\n",
    "                          normalize=False,\n",
    "                          title='Confusion matrix',\n",
    "                          cmap=plt.cm.Blues):\n",
    "    \"\"\"\n",
    "    This function prints and plots the confusion matrix.\n",
    "    Normalization can be applied by setting `normalize=True`.\n",
    "    \"\"\"\n",
    "    plt.imshow(cm, interpolation='nearest', cmap=cmap)\n",
    "    plt.title(title)\n",
    "    plt.colorbar()\n",
    "    tick_marks = np.arange(len(classes))\n",
    "    plt.xticks(tick_marks, classes, rotation=45)\n",
    "    plt.yticks(tick_marks, classes)\n",
    "\n",
    "    if normalize:\n",
    "        cm = cm.astype('float') / cm.sum(axis=1)[:, np.newaxis]\n",
    "\n",
    "    thresh = cm.max() / 2.\n",
    "    for i, j in itertools.product(range(cm.shape[0]), range(cm.shape[1])):\n",
    "        plt.text(j, i, cm[i, j],\n",
    "                 horizontalalignment=\"center\",\n",
    "                 color=\"white\" if cm[i, j] > thresh else \"black\")\n",
    "\n",
    "    plt.tight_layout()\n",
    "    plt.ylabel('True label')\n",
    "    plt.xlabel('Predicted label')"
   ]
  },
  {
   "cell_type": "code",
   "execution_count": 18,
   "metadata": {},
   "outputs": [
    {
     "name": "stdout",
     "output_type": "stream",
     "text": [
      "0.9873926036608144\n"
     ]
    },
    {
     "data": {
      "image/png": "[encoded data removed]",
      "text/plain": [
       "<Figure size 432x288 with 2 Axes>"
      ]
     },
     "metadata": {
      "needs_background": "light"
     },
     "output_type": "display_data"
    }
   ],
   "source": [
    "from sklearn.metrics import confusion_matrix\n",
    "from sklearn.metrics import accuracy_score\n",
    "import itertools\n",
    "\n",
    "# compute the confusion matrix\n",
    "confusion_mtx = confusion_matrix(true_classes, predicted_classes) \n",
    "# plot the confusion matrix\n",
    "plot_confusion_matrix(confusion_mtx, classes = class_labels) \n",
    "print(accuracy_score(true_classes, predicted_classes))"
   ]
  },
  {
   "cell_type": "code",
   "execution_count": null,
   "metadata": {},
   "outputs": [],
   "source": []
  }
 ],
 "metadata": {
  "kernelspec": {
   "display_name": "TensorFlow-GPU",
   "language": "python",
   "name": "tf-gpu"
  },
  "language_info": {
   "codemirror_mode": {
    "name": "ipython",
    "version": 3
   },
   "file_extension": ".py",
   "mimetype": "text/x-python",
   "name": "python",
   "nbconvert_exporter": "python",
   "pygments_lexer": "ipython3",
   "version": "3.6.7"
  }
 },
 "nbformat": 4,
 "nbformat_minor": 2
}

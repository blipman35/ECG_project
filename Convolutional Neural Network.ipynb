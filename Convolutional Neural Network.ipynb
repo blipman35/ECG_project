{
 "cells": [
  {
   "cell_type": "markdown",
   "metadata": {},
   "source": [
    "**Convolutional Neural Network to Identify Anomalies in ECG Signals**\n",
    "\n",
    "Heart disease affects millions of people around the world and is one of the leading causes of death. ECG is a powerful tool for analyzing heart condition. However, it is extremely time consuming and requires trained staff that are of limited supply. Recent advances in Neural Networks made classifying images possible and with high accuracy. The objective of this project is to create a Neural Network that can identify and classify ECG signals with very high accuracy. "
   ]
  },
  {
   "cell_type": "code",
   "execution_count": 1,
   "metadata": {},
   "outputs": [],
   "source": [
    "import os\n",
    "import shutil\n",
    "import matplotlib.pyplot as plt\n",
    "import random\n",
    "import numpy as np\n",
    "%matplotlib inline\n"
   ]
  },
  {
   "cell_type": "code",
   "execution_count": 2,
   "metadata": {},
   "outputs": [],
   "source": [
    "\n",
    "base_path = \"ecg_images_2\"\n",
    "\n",
    "train_dir = os.path.join(base_path, 'train')\n",
    "\n",
    "validation_dir = os.path.join(base_path, 'validation')\n",
    "\n",
    "test_dir = os.path.join(base_path, 'test')\n"
   ]
  },
  {
   "cell_type": "markdown",
   "metadata": {},
   "source": [
    "This project uses the [Keras](https://keras.io/) library, running on top of [Tensorflow](https://www.tensorflow.org/). Both of these are open source packages."
   ]
  },
  {
   "cell_type": "code",
   "execution_count": 3,
   "metadata": {},
   "outputs": [
    {
     "name": "stderr",
     "output_type": "stream",
     "text": [
      "Using TensorFlow backend.\n"
     ]
    }
   ],
   "source": [
    "import tensorflow as tf\n",
    "import keras"
   ]
  },
  {
   "cell_type": "markdown",
   "metadata": {},
   "source": [
    "The Neural Network consists of layers of increasing size. This enables the network to learn increasingly abstract features in the images. This network is based on an example in [Deep Learning with Python](https://www.amazon.com/Deep-Learning-Python-Francois-Chollet/dp/1617294438). The network classifies images into one of six categories corresponding to the six target beat types."
   ]
  },
  {
   "cell_type": "code",
   "execution_count": 4,
   "metadata": {},
   "outputs": [],
   "source": [
    "from keras import layers\n",
    "from keras import models\n",
    "\n",
    "model = models.Sequential()\n",
    "model.add(layers.Conv2D(32, (3, 3), activation='relu',\n",
    "                        input_shape=(150, 150, 1)))\n",
    "model.add(layers.MaxPooling2D((2, 2)))\n",
    "model.add(layers.Conv2D(64, (3, 3), activation='relu'))\n",
    "model.add(layers.MaxPooling2D((2, 2)))\n",
    "model.add(layers.Conv2D(128, (3, 3), activation='relu'))\n",
    "model.add(layers.MaxPooling2D((2, 2)))\n",
    "model.add(layers.Conv2D(128, (3, 3), activation='relu'))\n",
    "model.add(layers.MaxPooling2D((2, 2)))\n",
    "model.add(layers.Flatten())\n",
    "model.add(layers.Dropout(0.5))\n",
    "model.add(layers.Dense(512, activation='relu'))\n",
    "model.add(layers.Dense(7, activation='softmax'))"
   ]
  },
  {
   "cell_type": "code",
   "execution_count": 5,
   "metadata": {},
   "outputs": [
    {
     "name": "stdout",
     "output_type": "stream",
     "text": [
      "_________________________________________________________________\n",
      "Layer (type)                 Output Shape              Param #   \n",
      "=================================================================\n",
      "conv2d_1 (Conv2D)            (None, 148, 148, 32)      320       \n",
      "_________________________________________________________________\n",
      "max_pooling2d_1 (MaxPooling2 (None, 74, 74, 32)        0         \n",
      "_________________________________________________________________\n",
      "conv2d_2 (Conv2D)            (None, 72, 72, 64)        18496     \n",
      "_________________________________________________________________\n",
      "max_pooling2d_2 (MaxPooling2 (None, 36, 36, 64)        0         \n",
      "_________________________________________________________________\n",
      "conv2d_3 (Conv2D)            (None, 34, 34, 128)       73856     \n",
      "_________________________________________________________________\n",
      "max_pooling2d_3 (MaxPooling2 (None, 17, 17, 128)       0         \n",
      "_________________________________________________________________\n",
      "conv2d_4 (Conv2D)            (None, 15, 15, 128)       147584    \n",
      "_________________________________________________________________\n",
      "max_pooling2d_4 (MaxPooling2 (None, 7, 7, 128)         0         \n",
      "_________________________________________________________________\n",
      "flatten_1 (Flatten)          (None, 6272)              0         \n",
      "_________________________________________________________________\n",
      "dropout_1 (Dropout)          (None, 6272)              0         \n",
      "_________________________________________________________________\n",
      "dense_1 (Dense)              (None, 512)               3211776   \n",
      "_________________________________________________________________\n",
      "dense_2 (Dense)              (None, 7)                 3591      \n",
      "=================================================================\n",
      "Total params: 3,455,623\n",
      "Trainable params: 3,455,623\n",
      "Non-trainable params: 0\n",
      "_________________________________________________________________\n"
     ]
    }
   ],
   "source": [
    "model.summary()"
   ]
  },
  {
   "cell_type": "code",
   "execution_count": 6,
   "metadata": {},
   "outputs": [],
   "source": [
    "from keras import optimizers\n",
    "\n",
    "model.compile(loss='categorical_crossentropy',\n",
    "              optimizer=optimizers.Adam(lr=1e-5),\n",
    "              metrics=['acc'])"
   ]
  },
  {
   "cell_type": "markdown",
   "metadata": {},
   "source": [
    "We use the image data generator function of Keras. This is a simple way of making the neural network cycle through the train and validation folders in batches during the learning process."
   ]
  },
  {
   "cell_type": "code",
   "execution_count": 7,
   "metadata": {},
   "outputs": [
    {
     "name": "stdout",
     "output_type": "stream",
     "text": [
      "Found 86637 images belonging to 7 classes.\n",
      "Found 10829 images belonging to 7 classes.\n"
     ]
    }
   ],
   "source": [
    "from keras.preprocessing.image import ImageDataGenerator\n",
    "\n",
    "# All images will be rescaled by 1./255\n",
    "train_datagen = ImageDataGenerator(rescale=1./255)\n",
    "test_datagen = ImageDataGenerator(rescale=1./255)\n",
    "\n",
    "train_generator = train_datagen.flow_from_directory(\n",
    "        # This is the target directory\n",
    "        train_dir,\n",
    "        # All images will be resized to 150x150\n",
    "        target_size=(150, 150),\n",
    "        color_mode = \"grayscale\",\n",
    "        batch_size=20,\n",
    "        # Since we use categorical_crossentropy loss, we need categorical labels\n",
    "        class_mode='categorical')\n",
    "\n",
    "validation_generator = test_datagen.flow_from_directory(\n",
    "        validation_dir,\n",
    "        target_size=(150, 150),\n",
    "        color_mode = \"grayscale\", \n",
    "        batch_size=20,\n",
    "        class_mode='categorical')"
   ]
  },
  {
   "cell_type": "code",
   "execution_count": 8,
   "metadata": {
    "scrolled": false
   },
   "outputs": [
    {
     "name": "stdout",
     "output_type": "stream",
     "text": [
      "Epoch 1/100\n",
      "4000/4000 [==============================] - 90s 23ms/step - loss: 0.4588 - acc: 0.8678 - val_loss: 0.1482 - val_acc: 0.9647\n",
      "Epoch 2/100\n",
      "4000/4000 [==============================] - 87s 22ms/step - loss: 0.1482 - acc: 0.9628 - val_loss: 0.1031 - val_acc: 0.9757\n",
      "Epoch 3/100\n",
      "4000/4000 [==============================] - 87s 22ms/step - loss: 0.1137 - acc: 0.9702 - val_loss: 0.0794 - val_acc: 0.9812\n",
      "Epoch 4/100\n",
      "4000/4000 [==============================] - 87s 22ms/step - loss: 0.0921 - acc: 0.9763 - val_loss: 0.0641 - val_acc: 0.98540.9\n",
      "Epoch 5/100\n",
      "4000/4000 [==============================] - 87s 22ms/step - loss: 0.0795 - acc: 0.9796 - val_loss: 0.0553 - val_acc: 0.9865\n",
      "Epoch 6/100\n",
      "4000/4000 [==============================] - 87s 22ms/step - loss: 0.0697 - acc: 0.9813 - val_loss: 0.0621 - val_acc: 0.9858\n",
      "Epoch 7/100\n",
      "4000/4000 [==============================] - 88s 22ms/step - loss: 0.0633 - acc: 0.9833 - val_loss: 0.0513 - val_acc: 0.9877\n",
      "Epoch 8/100\n",
      "4000/4000 [==============================] - 87s 22ms/step - loss: 0.0599 - acc: 0.9838 - val_loss: 0.0493 - val_acc: 0.9891\n",
      "Epoch 9/100\n",
      "4000/4000 [==============================] - 88s 22ms/step - loss: 0.0533 - acc: 0.9857 - val_loss: 0.0465 - val_acc: 0.9893\n",
      "Epoch 10/100\n",
      "4000/4000 [==============================] - 87s 22ms/step - loss: 0.0519 - acc: 0.9860 - val_loss: 0.0426 - val_acc: 0.9898\n",
      "Epoch 11/100\n",
      "4000/4000 [==============================] - 88s 22ms/step - loss: 0.0480 - acc: 0.9873 - val_loss: 0.0430 - val_acc: 0.9900\n",
      "Epoch 12/100\n",
      "4000/4000 [==============================] - 88s 22ms/step - loss: 0.0439 - acc: 0.9885 - val_loss: 0.0484 - val_acc: 0.9886\n",
      "Epoch 13/100\n",
      "4000/4000 [==============================] - 88s 22ms/step - loss: 0.0421 - acc: 0.9885 - val_loss: 0.0382 - val_acc: 0.9906\n",
      "Epoch 14/100\n",
      "4000/4000 [==============================] - 88s 22ms/step - loss: 0.0396 - acc: 0.9892 - val_loss: 0.0410 - val_acc: 0.9904\n",
      "Epoch 15/100\n",
      "4000/4000 [==============================] - 88s 22ms/step - loss: 0.0367 - acc: 0.9899 - val_loss: 0.0346 - val_acc: 0.9914\n",
      "Epoch 16/100\n",
      "4000/4000 [==============================] - 88s 22ms/step - loss: 0.0351 - acc: 0.9903 - val_loss: 0.0378 - val_acc: 0.9917\n",
      "Epoch 17/100\n",
      "4000/4000 [==============================] - 88s 22ms/step - loss: 0.0326 - acc: 0.9911 - val_loss: 0.0384 - val_acc: 0.9902\n",
      "Epoch 18/100\n",
      "4000/4000 [==============================] - 88s 22ms/step - loss: 0.0314 - acc: 0.9914 - val_loss: 0.0358 - val_acc: 0.9912\n",
      "Epoch 19/100\n",
      "4000/4000 [==============================] - 88s 22ms/step - loss: 0.0317 - acc: 0.9913 - val_loss: 0.0435 - val_acc: 0.9911\n",
      "Epoch 20/100\n",
      "4000/4000 [==============================] - 88s 22ms/step - loss: 0.0286 - acc: 0.9919 - val_loss: 0.0315 - val_acc: 0.9917\n",
      "Epoch 21/100\n",
      "4000/4000 [==============================] - 88s 22ms/step - loss: 0.0283 - acc: 0.9921 - val_loss: 0.0367 - val_acc: 0.9910\n",
      "Epoch 22/100\n",
      "4000/4000 [==============================] - 88s 22ms/step - loss: 0.0280 - acc: 0.9925 - val_loss: 0.0347 - val_acc: 0.9919\n",
      "Epoch 23/100\n",
      "4000/4000 [==============================] - 88s 22ms/step - loss: 0.0243 - acc: 0.9932 - val_loss: 0.0362 - val_acc: 0.9911\n",
      "Epoch 24/100\n",
      "4000/4000 [==============================] - 87s 22ms/step - loss: 0.0243 - acc: 0.9932 - val_loss: 0.0405 - val_acc: 0.9901\n",
      "Epoch 25/100\n",
      "4000/4000 [==============================] - 87s 22ms/step - loss: 0.0247 - acc: 0.9929 - val_loss: 0.0350 - val_acc: 0.9915\n",
      "Epoch 26/100\n",
      "4000/4000 [==============================] - 87s 22ms/step - loss: 0.0227 - acc: 0.9935 - val_loss: 0.0378 - val_acc: 0.9917\n",
      "Epoch 27/100\n",
      "4000/4000 [==============================] - 87s 22ms/step - loss: 0.0221 - acc: 0.9937 - val_loss: 0.0351 - val_acc: 0.9912\n",
      "Epoch 28/100\n",
      "4000/4000 [==============================] - 87s 22ms/step - loss: 0.0208 - acc: 0.9941 - val_loss: 0.0331 - val_acc: 0.9915\n",
      "Epoch 29/100\n",
      "4000/4000 [==============================] - 87s 22ms/step - loss: 0.0211 - acc: 0.9940 - val_loss: 0.0406 - val_acc: 0.9915\n",
      "Epoch 30/100\n",
      "4000/4000 [==============================] - 87s 22ms/step - loss: 0.0200 - acc: 0.9947 - val_loss: 0.0331 - val_acc: 0.9919\n",
      "Epoch 31/100\n",
      "4000/4000 [==============================] - 87s 22ms/step - loss: 0.0188 - acc: 0.9948 - val_loss: 0.0362 - val_acc: 0.9909\n",
      "Epoch 32/100\n",
      "4000/4000 [==============================] - 87s 22ms/step - loss: 0.0185 - acc: 0.9948 - val_loss: 0.0340 - val_acc: 0.9921\n",
      "Epoch 33/100\n",
      "4000/4000 [==============================] - 87s 22ms/step - loss: 0.0172 - acc: 0.9948 - val_loss: 0.0399 - val_acc: 0.9896\n",
      "Epoch 34/100\n",
      "4000/4000 [==============================] - 87s 22ms/step - loss: 0.0173 - acc: 0.9952 - val_loss: 0.0350 - val_acc: 0.9920\n",
      "Epoch 35/100\n",
      "4000/4000 [==============================] - 87s 22ms/step - loss: 0.0161 - acc: 0.9954 - val_loss: 0.0383 - val_acc: 0.9907\n",
      "Epoch 36/100\n",
      "4000/4000 [==============================] - 87s 22ms/step - loss: 0.0155 - acc: 0.9955 - val_loss: 0.0373 - val_acc: 0.9909\n",
      "Epoch 37/100\n",
      "4000/4000 [==============================] - 87s 22ms/step - loss: 0.0156 - acc: 0.9956 - val_loss: 0.0419 - val_acc: 0.9904\n",
      "Epoch 38/100\n",
      "4000/4000 [==============================] - 87s 22ms/step - loss: 0.0143 - acc: 0.9957 - val_loss: 0.0297 - val_acc: 0.9928\n",
      "Epoch 39/100\n",
      "4000/4000 [==============================] - 87s 22ms/step - loss: 0.0146 - acc: 0.9959 - val_loss: 0.0426 - val_acc: 0.9912\n",
      "Epoch 40/100\n",
      "4000/4000 [==============================] - 87s 22ms/step - loss: 0.0140 - acc: 0.9958 - val_loss: 0.0346 - val_acc: 0.9923\n",
      "Epoch 41/100\n",
      "4000/4000 [==============================] - 88s 22ms/step - loss: 0.0138 - acc: 0.9960 - val_loss: 0.0389 - val_acc: 0.9908\n",
      "Epoch 42/100\n",
      "4000/4000 [==============================] - 88s 22ms/step - loss: 0.0133 - acc: 0.9961 - val_loss: 0.0392 - val_acc: 0.9917\n",
      "Epoch 43/100\n",
      "4000/4000 [==============================] - 88s 22ms/step - loss: 0.0129 - acc: 0.9961 - val_loss: 0.0352 - val_acc: 0.9923\n",
      "Epoch 44/100\n",
      "4000/4000 [==============================] - 88s 22ms/step - loss: 0.0124 - acc: 0.9962 - val_loss: 0.0400 - val_acc: 0.9903\n",
      "Epoch 45/100\n",
      "4000/4000 [==============================] - 88s 22ms/step - loss: 0.0120 - acc: 0.9962 - val_loss: 0.0346 - val_acc: 0.9924\n",
      "Epoch 46/100\n",
      "4000/4000 [==============================] - 88s 22ms/step - loss: 0.0118 - acc: 0.9966 - val_loss: 0.0417 - val_acc: 0.9916\n",
      "Epoch 47/100\n",
      "4000/4000 [==============================] - 88s 22ms/step - loss: 0.0113 - acc: 0.9969 - val_loss: 0.0328 - val_acc: 0.9922\n",
      "Epoch 48/100\n",
      "4000/4000 [==============================] - 88s 22ms/step - loss: 0.0117 - acc: 0.9965 - val_loss: 0.0468 - val_acc: 0.9916\n",
      "Epoch 49/100\n",
      "4000/4000 [==============================] - 88s 22ms/step - loss: 0.0111 - acc: 0.9967 - val_loss: 0.0376 - val_acc: 0.9922\n",
      "Epoch 50/100\n",
      "4000/4000 [==============================] - 88s 22ms/step - loss: 0.0107 - acc: 0.9967 - val_loss: 0.0406 - val_acc: 0.9919\n",
      "Epoch 51/100\n",
      "4000/4000 [==============================] - 88s 22ms/step - loss: 0.0102 - acc: 0.9969 - val_loss: 0.0381 - val_acc: 0.9917\n",
      "Epoch 52/100\n",
      "4000/4000 [==============================] - 88s 22ms/step - loss: 0.0100 - acc: 0.9970 - val_loss: 0.0360 - val_acc: 0.9923\n",
      "Epoch 53/100\n",
      "4000/4000 [==============================] - 87s 22ms/step - loss: 0.0094 - acc: 0.9972 - val_loss: 0.0474 - val_acc: 0.9908\n",
      "Epoch 54/100\n",
      "4000/4000 [==============================] - 86s 22ms/step - loss: 0.0100 - acc: 0.9973 - val_loss: 0.0395 - val_acc: 0.9919\n",
      "Epoch 55/100\n",
      "4000/4000 [==============================] - 87s 22ms/step - loss: 0.0089 - acc: 0.9974 - val_loss: 0.0413 - val_acc: 0.9916\n",
      "Epoch 56/100\n",
      "4000/4000 [==============================] - 87s 22ms/step - loss: 0.0088 - acc: 0.9974 - val_loss: 0.0420 - val_acc: 0.9914\n",
      "Epoch 57/100\n",
      "4000/4000 [==============================] - 86s 22ms/step - loss: 0.0091 - acc: 0.9972 - val_loss: 0.0366 - val_acc: 0.9920\n",
      "Epoch 58/100\n",
      "4000/4000 [==============================] - 87s 22ms/step - loss: 0.0081 - acc: 0.9978 - val_loss: 0.0463 - val_acc: 0.9923\n",
      "Epoch 59/100\n",
      "4000/4000 [==============================] - 88s 22ms/step - loss: 0.0083 - acc: 0.9973 - val_loss: 0.0421 - val_acc: 0.9923\n",
      "Epoch 60/100\n"
     ]
    },
    {
     "name": "stdout",
     "output_type": "stream",
     "text": [
      "4000/4000 [==============================] - 88s 22ms/step - loss: 0.0085 - acc: 0.9977 - val_loss: 0.0408 - val_acc: 0.9924\n",
      "Epoch 61/100\n",
      "4000/4000 [==============================] - 88s 22ms/step - loss: 0.0078 - acc: 0.9976 - val_loss: 0.0386 - val_acc: 0.9919\n",
      "Epoch 62/100\n",
      "4000/4000 [==============================] - 88s 22ms/step - loss: 0.0077 - acc: 0.9977 - val_loss: 0.0464 - val_acc: 0.9920\n",
      "Epoch 63/100\n",
      "4000/4000 [==============================] - 88s 22ms/step - loss: 0.0074 - acc: 0.9977 - val_loss: 0.0446 - val_acc: 0.9916\n",
      "Epoch 64/100\n",
      "4000/4000 [==============================] - 88s 22ms/step - loss: 0.0074 - acc: 0.9978 - val_loss: 0.0386 - val_acc: 0.9920\n",
      "Epoch 65/100\n",
      "4000/4000 [==============================] - 88s 22ms/step - loss: 0.0072 - acc: 0.9977 - val_loss: 0.0412 - val_acc: 0.9931-  - ETA: 0s - loss: 0.0071\n",
      "Epoch 66/100\n",
      "4000/4000 [==============================] - 88s 22ms/step - loss: 0.0069 - acc: 0.9980 - val_loss: 0.0393 - val_acc: 0.9915\n",
      "Epoch 67/100\n",
      "4000/4000 [==============================] - 88s 22ms/step - loss: 0.0061 - acc: 0.9981 - val_loss: 0.0518 - val_acc: 0.9912\n",
      "Epoch 68/100\n",
      "4000/4000 [==============================] - 88s 22ms/step - loss: 0.0065 - acc: 0.9980 - val_loss: 0.0388 - val_acc: 0.9927\n",
      "Epoch 69/100\n",
      "4000/4000 [==============================] - 88s 22ms/step - loss: 0.0064 - acc: 0.9978 - val_loss: 0.0397 - val_acc: 0.9929\n",
      "Epoch 70/100\n",
      "4000/4000 [==============================] - 88s 22ms/step - loss: 0.0066 - acc: 0.9978 - val_loss: 0.0470 - val_acc: 0.9919\n",
      "Epoch 71/100\n",
      "4000/4000 [==============================] - 88s 22ms/step - loss: 0.0065 - acc: 0.9980 - val_loss: 0.0410 - val_acc: 0.9926\n",
      "Epoch 72/100\n",
      "4000/4000 [==============================] - 88s 22ms/step - loss: 0.0059 - acc: 0.9980 - val_loss: 0.0418 - val_acc: 0.9920\n",
      "Epoch 73/100\n",
      "4000/4000 [==============================] - 88s 22ms/step - loss: 0.0057 - acc: 0.9982 - val_loss: 0.0480 - val_acc: 0.9928\n",
      "Epoch 74/100\n",
      "4000/4000 [==============================] - 88s 22ms/step - loss: 0.0064 - acc: 0.9981 - val_loss: 0.0440 - val_acc: 0.9924\n",
      "Epoch 75/100\n",
      "4000/4000 [==============================] - 88s 22ms/step - loss: 0.0062 - acc: 0.9981 - val_loss: 0.0483 - val_acc: 0.9922\n",
      "Epoch 76/100\n",
      "4000/4000 [==============================] - 88s 22ms/step - loss: 0.0056 - acc: 0.9982 - val_loss: 0.0446 - val_acc: 0.9920\n",
      "Epoch 77/100\n",
      "4000/4000 [==============================] - 87s 22ms/step - loss: 0.0054 - acc: 0.9983 - val_loss: 0.0472 - val_acc: 0.9926s: 0.0\n",
      "Epoch 78/100\n",
      "4000/4000 [==============================] - 86s 22ms/step - loss: 0.0053 - acc: 0.9984 - val_loss: 0.0456 - val_acc: 0.9928\n",
      "Epoch 79/100\n",
      "4000/4000 [==============================] - 87s 22ms/step - loss: 0.0052 - acc: 0.9983 - val_loss: 0.0446 - val_acc: 0.9920\n",
      "Epoch 80/100\n",
      "4000/4000 [==============================] - 87s 22ms/step - loss: 0.0049 - acc: 0.9984 - val_loss: 0.0483 - val_acc: 0.9921\n",
      "Epoch 81/100\n",
      "4000/4000 [==============================] - 87s 22ms/step - loss: 0.0052 - acc: 0.9984 - val_loss: 0.0436 - val_acc: 0.9924\n",
      "Epoch 82/100\n",
      "4000/4000 [==============================] - 87s 22ms/step - loss: 0.0053 - acc: 0.9983 - val_loss: 0.0444 - val_acc: 0.9921\n",
      "Epoch 83/100\n",
      "4000/4000 [==============================] - 87s 22ms/step - loss: 0.0049 - acc: 0.9985 - val_loss: 0.0460 - val_acc: 0.9915\n",
      "Epoch 84/100\n",
      "4000/4000 [==============================] - 87s 22ms/step - loss: 0.0049 - acc: 0.9986 - val_loss: 0.0486 - val_acc: 0.9919\n",
      "Epoch 85/100\n",
      "4000/4000 [==============================] - 88s 22ms/step - loss: 0.0049 - acc: 0.9984 - val_loss: 0.0443 - val_acc: 0.9930\n",
      "Epoch 86/100\n",
      "4000/4000 [==============================] - 87s 22ms/step - loss: 0.0045 - acc: 0.9986 - val_loss: 0.0523 - val_acc: 0.9921\n",
      "Epoch 87/100\n",
      "4000/4000 [==============================] - 87s 22ms/step - loss: 0.0044 - acc: 0.9985 - val_loss: 0.0429 - val_acc: 0.9930\n",
      "Epoch 88/100\n",
      "4000/4000 [==============================] - 87s 22ms/step - loss: 0.0046 - acc: 0.9986 - val_loss: 0.0480 - val_acc: 0.9921\n",
      "Epoch 89/100\n",
      "4000/4000 [==============================] - 87s 22ms/step - loss: 0.0042 - acc: 0.9985 - val_loss: 0.0451 - val_acc: 0.9921\n",
      "Epoch 90/100\n",
      "4000/4000 [==============================] - 87s 22ms/step - loss: 0.0040 - acc: 0.9987 - val_loss: 0.0528 - val_acc: 0.9925\n",
      "Epoch 91/100\n",
      "4000/4000 [==============================] - 86s 22ms/step - loss: 0.0045 - acc: 0.9986 - val_loss: 0.0452 - val_acc: 0.9925 loss: 0.\n",
      "Epoch 92/100\n",
      "4000/4000 [==============================] - 86s 22ms/step - loss: 0.0039 - acc: 0.9987 - val_loss: 0.0467 - val_acc: 0.9928\n",
      "Epoch 93/100\n",
      "4000/4000 [==============================] - 86s 22ms/step - loss: 0.0044 - acc: 0.9986 - val_loss: 0.0467 - val_acc: 0.9923\n",
      "Epoch 94/100\n",
      "4000/4000 [==============================] - 87s 22ms/step - loss: 0.0044 - acc: 0.9984 - val_loss: 0.0457 - val_acc: 0.9930\n",
      "Epoch 95/100\n",
      "4000/4000 [==============================] - 87s 22ms/step - loss: 0.0041 - acc: 0.9987 - val_loss: 0.0537 - val_acc: 0.9912\n",
      "Epoch 96/100\n",
      "4000/4000 [==============================] - 87s 22ms/step - loss: 0.0039 - acc: 0.9987 - val_loss: 0.0457 - val_acc: 0.9924\n",
      "Epoch 97/100\n",
      "4000/4000 [==============================] - 87s 22ms/step - loss: 0.0039 - acc: 0.9988 - val_loss: 0.0472 - val_acc: 0.9920\n",
      "Epoch 98/100\n",
      "4000/4000 [==============================] - 88s 22ms/step - loss: 0.0037 - acc: 0.9987 - val_loss: 0.0549 - val_acc: 0.9930\n",
      "Epoch 99/100\n",
      "4000/4000 [==============================] - 88s 22ms/step - loss: 0.0031 - acc: 0.9990 - val_loss: 0.0467 - val_acc: 0.9932\n",
      "Epoch 100/100\n",
      "4000/4000 [==============================] - 88s 22ms/step - loss: 0.0039 - acc: 0.9987 - val_loss: 0.0563 - val_acc: 0.9920\n"
     ]
    }
   ],
   "source": [
    "import PIL\n",
    "from PIL import Image\n",
    "\n",
    "history = model.fit_generator(\n",
    "      train_generator,\n",
    "      steps_per_epoch=4000,\n",
    "      epochs=100,\n",
    "      validation_data=validation_generator,\n",
    "      validation_steps=535)\n"
   ]
  },
  {
   "cell_type": "code",
   "execution_count": 9,
   "metadata": {},
   "outputs": [],
   "source": [
    "model.save('ECG_cnn.h5')"
   ]
  },
  {
   "cell_type": "markdown",
   "metadata": {},
   "source": [
    "The charts below show the accuracy and loss for training and validation. We want these to be fairly similar otherwise it shows that the network is overfitting. "
   ]
  },
  {
   "cell_type": "code",
   "execution_count": 10,
   "metadata": {},
   "outputs": [
    {
     "data": {
      "image/png": "[encoded data removed]",
      "text/plain": [
       "<Figure size 432x288 with 1 Axes>"
      ]
     },
     "metadata": {
      "needs_background": "light"
     },
     "output_type": "display_data"
    },
    {
     "data": {
      "image/png": "[encoded data removed]",
      "text/plain": [
       "<Figure size 432x288 with 1 Axes>"
      ]
     },
     "metadata": {
      "needs_background": "light"
     },
     "output_type": "display_data"
    }
   ],
   "source": [
    "acc = history.history['acc']\n",
    "val_acc = history.history['val_acc']\n",
    "loss = history.history['loss']\n",
    "val_loss = history.history['val_loss']\n",
    "\n",
    "epochs = range(len(acc))\n",
    "\n",
    "plt.plot(epochs, acc, 'bo', label='Training acc')\n",
    "plt.plot(epochs, val_acc, 'b', label='Validation acc')\n",
    "plt.title('Training and validation accuracy')\n",
    "plt.legend()\n",
    "\n",
    "plt.figure()\n",
    "\n",
    "plt.plot(epochs, loss, 'bo', label='Training loss')\n",
    "plt.plot(epochs, val_loss, 'b', label='Validation loss')\n",
    "plt.title('Training and validation loss')\n",
    "plt.legend()\n",
    "\n",
    "plt.show()"
   ]
  },
  {
   "cell_type": "markdown",
   "metadata": {},
   "source": [
    "Although the accuracy is about 98.5%, the accuracy measure by itself is misleading because most heart beats are normal and so we could classify every heartbeat as normal and have a high accuracy although this wouldn't be very useful. Keras does not have a way to do this, so we will use [Scikit-learn](https://scikit-learn.org/stable/) to do this analysis.\n",
    "\n",
    "The overall accuracy of the model against the test sample is almost 99%. The table below also shows the following metrics for each beat type: \n",
    "\n",
    "* Precision: What proportion of positive identifications was actually correct?\n",
    "* Recall: What proportion of actual positives was identified correctly?\n",
    "* F1 Score: The balance between precision and recall\n",
    "\n",
    "For each beat type, the precision and recall are in the 98-99% range, except for recall for beat type A. The reason is most likely because this beat type has the least number of samples."
   ]
  },
  {
   "cell_type": "code",
   "execution_count": 11,
   "metadata": {},
   "outputs": [
    {
     "name": "stdout",
     "output_type": "stream",
     "text": [
      "Found 10834 images belonging to 7 classes.\n",
      "test accuracy: 99.36 percent\n",
      "test loss: 0.03\n",
      "              precision    recall  f1-score   support\n",
      "\n",
      "           +      1.000     0.960     0.980       126\n",
      "           A      0.949     0.878     0.912       255\n",
      "           L      0.999     0.993     0.996       808\n",
      "           N      0.995     0.998     0.996      7503\n",
      "           P      0.999     1.000     0.999       703\n",
      "           R      0.994     0.993     0.994       726\n",
      "           V      0.982     0.990     0.986       713\n",
      "\n",
      "   micro avg      0.994     0.994     0.994     10834\n",
      "   macro avg      0.988     0.973     0.980     10834\n",
      "weighted avg      0.994     0.994     0.994     10834\n",
      "\n"
     ]
    }
   ],
   "source": [
    "from sklearn.metrics import classification_report\n",
    "from sklearn.metrics import accuracy_score\n",
    "\n",
    "testing_datagen = ImageDataGenerator(rescale=1./255)\n",
    "test_generator = testing_datagen.flow_from_directory(\n",
    "        test_dir,\n",
    "        target_size=(150, 150),\n",
    "        color_mode = \"grayscale\", \n",
    "        batch_size=20,\n",
    "        class_mode='categorical',\n",
    "        shuffle = False)\n",
    "\n",
    "test_loss, test_acc = model.evaluate_generator(test_generator, steps = 535)\n",
    "test_accuracy = test_acc*100\n",
    "print('test accuracy: %.2f percent' %(test_accuracy))\n",
    "print('test loss: %.2f' %(test_loss))\n",
    "\n",
    "predictions = model.predict_generator(\n",
    "    test_generator, \n",
    "    steps = np.math.ceil(test_generator.samples/ test_generator.batch_size))\n",
    "\n",
    "predicted_classes = np.argmax(predictions, axis = 1)\n",
    "\n",
    "true_classes = test_generator.classes \n",
    "class_labels = list(test_generator.class_indices.keys())\n",
    "\n",
    "report = classification_report(true_classes, predicted_classes, target_names = class_labels, digits = 3)\n",
    "print(report)"
   ]
  },
  {
   "cell_type": "markdown",
   "metadata": {},
   "source": [
    "Another useful way to look at the results is with a confusion matrix. This shows the true positive, false positive, true negative, and false negative for each beat type. This is similar data to the chart above, just more granular. "
   ]
  },
  {
   "cell_type": "code",
   "execution_count": 12,
   "metadata": {},
   "outputs": [],
   "source": [
    "def plot_confusion_matrix(cm, classes,\n",
    "                          normalize=False,\n",
    "                          title='Confusion matrix',\n",
    "                          cmap=plt.cm.Blues):\n",
    "    \"\"\"\n",
    "    This function prints and plots the confusion matrix.\n",
    "    Normalization can be applied by setting `normalize=True`.\n",
    "    \"\"\"\n",
    "    plt.imshow(cm, interpolation='nearest', cmap=cmap)\n",
    "    plt.title(title)\n",
    "    plt.colorbar()\n",
    "    tick_marks = np.arange(len(classes))\n",
    "    plt.xticks(tick_marks, classes, rotation=45)\n",
    "    plt.yticks(tick_marks, classes)\n",
    "\n",
    "    if normalize:\n",
    "        cm = cm.astype('float') / cm.sum(axis=1)[:, np.newaxis]\n",
    "\n",
    "    thresh = cm.max() / 2.\n",
    "    for i, j in itertools.product(range(cm.shape[0]), range(cm.shape[1])):\n",
    "        plt.text(j, i, cm[i, j],\n",
    "                 horizontalalignment=\"center\",\n",
    "                 color=\"white\" if cm[i, j] > thresh else \"black\")\n",
    "\n",
    "    plt.tight_layout()\n",
    "    plt.ylabel('True label')\n",
    "    plt.xlabel('Predicted label')"
   ]
  },
  {
   "cell_type": "code",
   "execution_count": 13,
   "metadata": {},
   "outputs": [
    {
     "name": "stdout",
     "output_type": "stream",
     "text": [
      "0.9936311611593133\n"
     ]
    },
    {
     "data": {
      "image/png": "[encoded data removed]",
      "text/plain": [
       "<Figure size 432x288 with 2 Axes>"
      ]
     },
     "metadata": {
      "needs_background": "light"
     },
     "output_type": "display_data"
    }
   ],
   "source": [
    "from sklearn.metrics import confusion_matrix\n",
    "from sklearn.metrics import accuracy_score\n",
    "import itertools\n",
    "\n",
    "# compute the confusion matrix\n",
    "confusion_mtx = confusion_matrix(true_classes, predicted_classes) \n",
    "# plot the confusion matrix\n",
    "plot_confusion_matrix(confusion_mtx, classes = class_labels) \n",
    "print(accuracy_score(true_classes, predicted_classes))"
   ]
  },
  {
   "cell_type": "code",
   "execution_count": null,
   "metadata": {},
   "outputs": [],
   "source": []
  }
 ],
 "metadata": {
  "kernelspec": {
   "display_name": "TensorFlow-GPU",
   "language": "python",
   "name": "tf-gpu"
  },
  "language_info": {
   "codemirror_mode": {
    "name": "ipython",
    "version": 3
   },
   "file_extension": ".py",
   "mimetype": "text/x-python",
   "name": "python",
   "nbconvert_exporter": "python",
   "pygments_lexer": "ipython3",
   "version": "3.6.7"
  }
 },
 "nbformat": 4,
 "nbformat_minor": 2
}
